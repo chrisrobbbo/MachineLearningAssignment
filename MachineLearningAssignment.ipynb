{
  "nbformat": 4,
  "nbformat_minor": 0,
  "metadata": {
    "colab": {
      "name": "Mushroom_Classification",
      "version": "0.3.2",
      "provenance": [],
      "collapsed_sections": []
    },
    "kernelspec": {
      "name": "python3",
      "display_name": "Python 3"
    }
  },
  "cells": [
    {
      "metadata": {
        "id": "1cE9vht9Ypo2",
        "colab_type": "text"
      },
      "cell_type": "markdown",
      "source": [
        "### **Data & Problem**\n",
        "\n",
        "The dataset being used in this assignment represents 23 variables which can be used to describe a mushrooms  physical appearance. Examples of these features include cap_shape, gill_size and veil_color. The dataset includes 8124 different species of mushrooms and all classified whether they are poisonous or edible. This brings on a problem due to the popular hobbies of mushroom hunting. The problem is that people need to be able to clearly classify if a mushroom is poisonous or edible. \n",
        "\n",
        "This problem can be solved through the use of machine learning algorithms. To solve this type of problem supervised learning is the best approach to take. Supervised learning is when the dataset being used includes the inputs (X) but also the output targets (Y), this allows the algorithm to be trained in a way to map the input data (X) to predict or classify (Y). In this case we want to identify the class of the mushroom to be either Poisonous or Edible. The two different types of models used within supervised learning are regression and classification. Regression involves predicting a continuous valued output whereas classification models involve trying to predict a discrete number of values which is used to label outputs. Because we only have two outputs the type of models we will be using are binary classification, where the possible outputs we want to predict are (1) - Poisonous (0) - edible.\n",
        "\n",
        "![alt text](data:image/png;base64,iVBORw0KGgoAAAANSUhEUgAAAfgAAAFUCAYAAADI9i7qAAAABHNCSVQICAgIfAhkiAAAAAlwSFlz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%0AgQcAwEAEHgAAA/1/9GDi0w60H78AAAAASUVORK5CYII=)\n",
        "\n",
        "Once the algorithm is trained, it will be very beneficial for clearly identifying if a mushroom is safe or not. As shown in the figure below the split between species which are poisonous and edible is very small so it's highly important that people can clearly identify the mushroom or it could cause harm to the individual. \n",
        "\n",
        "The two models being used to solve this problem are Logistic Regression and Decision Trees. Logistic regression is a model used for binary classification where it will take the input and produce an output which is either 1 or 0. This model is very effective for the problem trying to be solved because of the format of the problem where we want to binary classify if a mushroom is (1) poisonous or (0) edible. The other model I will be using is decision tree. Decision trees work by branching a series of Boolean conditional checks which relate to the dataset feed in. Each node is classified as a decision point. This helps to separate the dataset down into groups and classify the outcomw of each input. These two models are very efficient when it comes to classification, so identifying which model to recommend can be a difficult process. So to compare the two I will use 10 fold cross validation and compare the ratio difference between the two models. This will help to show how consistant the models are. Where the model which contains a ratio closer to '1' will be rewarded as more consistent. \n",
        "\n",
        "Looking through the dataset, it will all need to be processed into the correct format. This is because the models need numeric values and the dataset provides all the data in character labels. The data needs to be processed into a numeric format and to do this encoding is required. Two possible types of encoders to use are Label and One-hot encoding. The difference between label and one-hot encoding is that with label encoding the column data is converted from categorical data into a numeric format. For example if there were 5 different possible values for a column. The label encoder would encoder the values into 5 different possible values which represent the different possible categories. But this can cause problems involving the algorithm mistaking the numbers as a hierarchy where the greater the number the more importance that has on the algorithm affecting the outcome. This is not suitable for many dataset's so a different form of encoding which is more popular is One-Hot encoding. One hot encoding avoids the problem which is related to label encoding. Within the processing the encoder creates a new column for each possible categorical value and if the row contains that value it is marked as one. This removes the hierarchy because it can either be 1 or 0. This method of pre-processing is much more recommended when using datasets such as the mushroom one being used in this notebook, because of the different categorical values.\n",
        "\n",
        "I will use both encoders to process the data. I am doing this because there are columns which only contain two possible values. Examples include; class and bruises. After these columns are encoded I will then use One-Hot encoding on the rest of the columns to ensure they are all processed into the correct format and there is no hierarchy which can affect the result.\n",
        "\n",
        "Also as part of the pre-processing, I will train a clustering algorithm, the clustering model I will use is KMeans. KMeans is a unsupervised learning model which helps to identify cluster/groups in the dataset. The amount of clusters created is dymanic so I will run the clustering model multiple times changing the number of clusters and plot the inertia into a graph. The inertia is the sum of the squared distancs of samples to their closest cluster center. After the graph is plotted it should present an 'elbow-point' which displays the optimal amount of clusters. I will then loop through the labels of the KMeans cluster and add what cluster it belongs to to the dataset which will be feed into the logistic and decision model. "
      ]
    },
    {
      "metadata": {
        "id": "cAvNrQkFRjSy",
        "colab_type": "code",
        "colab": {}
      },
      "cell_type": "code",
      "source": [
        "import pandas as pd\n",
        "from sklearn import preprocessing \n",
        "import matplotlib.pyplot as plt\n",
        "from sklearn import linear_model\n",
        "from sklearn.tree import DecisionTreeClassifier\n",
        "from sklearn.model_selection import train_test_split\n",
        "from sklearn.cluster import KMeans\n",
        "import random\n",
        "import numpy as np\n",
        "from sklearn import tree\n",
        "from scipy.spatial.distance import cdist"
      ],
      "execution_count": 0,
      "outputs": []
    },
    {
      "metadata": {
        "id": "AH5u_UXJSY2b",
        "colab_type": "code",
        "colab": {}
      },
      "cell_type": "code",
      "source": [
        "csv_file_uri = \"https://archive.ics.uci.edu/ml/machine-learning-databases/mushroom/agaricus-lepiota.data\"\n",
        "\n",
        "column_names = [\"class\", \"cap_shape\", \"cap_surface\", \"cap_color\", \"bruises\",  \"odor\", \"gill_attachment\", \n",
        "                \"gill_spacing\", \"gill_size\", \"gill_color\", \"stalk_shape\", \"stalk_root\", \n",
        "                \"stalk_surface_above_ring\",  \"stalk_surface_below_ring\", \"stalk_color_below_ring\", \n",
        "                \"veil_type\", \"veil_color\", \"ring_number\", \"ring_type\", \"spore_print_color\", \"population\", \"habitat\" ]\n",
        "\n",
        "data = pd.read_csv(csv_file_uri,  names=column_names, index_col=False)\n",
        "\n",
        "data.drop(['stalk_root'], axis=1, inplace=True)\n",
        "\n"
      ],
      "execution_count": 0,
      "outputs": []
    },
    {
      "metadata": {
        "id": "B8T1vEfxYMH9",
        "colab_type": "code",
        "colab": {
          "base_uri": "https://localhost:8080/",
          "height": 186
        },
        "outputId": "12444318-444e-4810-ac3e-f136ac9adf6f"
      },
      "cell_type": "code",
      "source": [
        "data.head(3)"
      ],
      "execution_count": 125,
      "outputs": [
        {
          "output_type": "execute_result",
          "data": {
            "text/html": [
              "<div>\n",
              "<style scoped>\n",
              "    .dataframe tbody tr th:only-of-type {\n",
              "        vertical-align: middle;\n",
              "    }\n",
              "\n",
              "    .dataframe tbody tr th {\n",
              "        vertical-align: top;\n",
              "    }\n",
              "\n",
              "    .dataframe thead th {\n",
              "        text-align: right;\n",
              "    }\n",
              "</style>\n",
              "<table border=\"1\" class=\"dataframe\">\n",
              "  <thead>\n",
              "    <tr style=\"text-align: right;\">\n",
              "      <th></th>\n",
              "      <th>class</th>\n",
              "      <th>cap_shape</th>\n",
              "      <th>cap_surface</th>\n",
              "      <th>cap_color</th>\n",
              "      <th>bruises</th>\n",
              "      <th>odor</th>\n",
              "      <th>gill_attachment</th>\n",
              "      <th>gill_spacing</th>\n",
              "      <th>gill_size</th>\n",
              "      <th>gill_color</th>\n",
              "      <th>...</th>\n",
              "      <th>stalk_surface_above_ring</th>\n",
              "      <th>stalk_surface_below_ring</th>\n",
              "      <th>stalk_color_below_ring</th>\n",
              "      <th>veil_type</th>\n",
              "      <th>veil_color</th>\n",
              "      <th>ring_number</th>\n",
              "      <th>ring_type</th>\n",
              "      <th>spore_print_color</th>\n",
              "      <th>population</th>\n",
              "      <th>habitat</th>\n",
              "    </tr>\n",
              "  </thead>\n",
              "  <tbody>\n",
              "    <tr>\n",
              "      <th>0</th>\n",
              "      <td>p</td>\n",
              "      <td>x</td>\n",
              "      <td>s</td>\n",
              "      <td>n</td>\n",
              "      <td>t</td>\n",
              "      <td>p</td>\n",
              "      <td>f</td>\n",
              "      <td>c</td>\n",
              "      <td>n</td>\n",
              "      <td>k</td>\n",
              "      <td>...</td>\n",
              "      <td>s</td>\n",
              "      <td>s</td>\n",
              "      <td>w</td>\n",
              "      <td>w</td>\n",
              "      <td>p</td>\n",
              "      <td>w</td>\n",
              "      <td>o</td>\n",
              "      <td>p</td>\n",
              "      <td>k</td>\n",
              "      <td>s</td>\n",
              "    </tr>\n",
              "    <tr>\n",
              "      <th>1</th>\n",
              "      <td>e</td>\n",
              "      <td>x</td>\n",
              "      <td>s</td>\n",
              "      <td>y</td>\n",
              "      <td>t</td>\n",
              "      <td>a</td>\n",
              "      <td>f</td>\n",
              "      <td>c</td>\n",
              "      <td>b</td>\n",
              "      <td>k</td>\n",
              "      <td>...</td>\n",
              "      <td>s</td>\n",
              "      <td>s</td>\n",
              "      <td>w</td>\n",
              "      <td>w</td>\n",
              "      <td>p</td>\n",
              "      <td>w</td>\n",
              "      <td>o</td>\n",
              "      <td>p</td>\n",
              "      <td>n</td>\n",
              "      <td>n</td>\n",
              "    </tr>\n",
              "    <tr>\n",
              "      <th>2</th>\n",
              "      <td>e</td>\n",
              "      <td>b</td>\n",
              "      <td>s</td>\n",
              "      <td>w</td>\n",
              "      <td>t</td>\n",
              "      <td>l</td>\n",
              "      <td>f</td>\n",
              "      <td>c</td>\n",
              "      <td>b</td>\n",
              "      <td>n</td>\n",
              "      <td>...</td>\n",
              "      <td>s</td>\n",
              "      <td>s</td>\n",
              "      <td>w</td>\n",
              "      <td>w</td>\n",
              "      <td>p</td>\n",
              "      <td>w</td>\n",
              "      <td>o</td>\n",
              "      <td>p</td>\n",
              "      <td>n</td>\n",
              "      <td>n</td>\n",
              "    </tr>\n",
              "  </tbody>\n",
              "</table>\n",
              "<p>3 rows × 21 columns</p>\n",
              "</div>"
            ],
            "text/plain": [
              "  class cap_shape cap_surface cap_color bruises odor gill_attachment  \\\n",
              "0     p         x           s         n       t    p               f   \n",
              "1     e         x           s         y       t    a               f   \n",
              "2     e         b           s         w       t    l               f   \n",
              "\n",
              "  gill_spacing gill_size gill_color   ...   stalk_surface_above_ring  \\\n",
              "0            c         n          k   ...                          s   \n",
              "1            c         b          k   ...                          s   \n",
              "2            c         b          n   ...                          s   \n",
              "\n",
              "  stalk_surface_below_ring stalk_color_below_ring veil_type veil_color  \\\n",
              "0                        s                      w         w          p   \n",
              "1                        s                      w         w          p   \n",
              "2                        s                      w         w          p   \n",
              "\n",
              "  ring_number ring_type spore_print_color population habitat  \n",
              "0           w         o                 p          k       s  \n",
              "1           w         o                 p          n       n  \n",
              "2           w         o                 p          n       n  \n",
              "\n",
              "[3 rows x 21 columns]"
            ]
          },
          "metadata": {
            "tags": []
          },
          "execution_count": 125
        }
      ]
    },
    {
      "metadata": {
        "id": "eKXED6BMh1r8",
        "colab_type": "code",
        "colab": {
          "base_uri": "https://localhost:8080/",
          "height": 216
        },
        "outputId": "662e8b06-2060-464e-c5e7-e05623dcfb3b"
      },
      "cell_type": "code",
      "source": [
        "data.describe()"
      ],
      "execution_count": 126,
      "outputs": [
        {
          "output_type": "execute_result",
          "data": {
            "text/html": [
              "<div>\n",
              "<style scoped>\n",
              "    .dataframe tbody tr th:only-of-type {\n",
              "        vertical-align: middle;\n",
              "    }\n",
              "\n",
              "    .dataframe tbody tr th {\n",
              "        vertical-align: top;\n",
              "    }\n",
              "\n",
              "    .dataframe thead th {\n",
              "        text-align: right;\n",
              "    }\n",
              "</style>\n",
              "<table border=\"1\" class=\"dataframe\">\n",
              "  <thead>\n",
              "    <tr style=\"text-align: right;\">\n",
              "      <th></th>\n",
              "      <th>class</th>\n",
              "      <th>cap_shape</th>\n",
              "      <th>cap_surface</th>\n",
              "      <th>cap_color</th>\n",
              "      <th>bruises</th>\n",
              "      <th>odor</th>\n",
              "      <th>gill_attachment</th>\n",
              "      <th>gill_spacing</th>\n",
              "      <th>gill_size</th>\n",
              "      <th>gill_color</th>\n",
              "      <th>...</th>\n",
              "      <th>stalk_surface_above_ring</th>\n",
              "      <th>stalk_surface_below_ring</th>\n",
              "      <th>stalk_color_below_ring</th>\n",
              "      <th>veil_type</th>\n",
              "      <th>veil_color</th>\n",
              "      <th>ring_number</th>\n",
              "      <th>ring_type</th>\n",
              "      <th>spore_print_color</th>\n",
              "      <th>population</th>\n",
              "      <th>habitat</th>\n",
              "    </tr>\n",
              "  </thead>\n",
              "  <tbody>\n",
              "    <tr>\n",
              "      <th>count</th>\n",
              "      <td>8124</td>\n",
              "      <td>8124</td>\n",
              "      <td>8124</td>\n",
              "      <td>8124</td>\n",
              "      <td>8124</td>\n",
              "      <td>8124</td>\n",
              "      <td>8124</td>\n",
              "      <td>8124</td>\n",
              "      <td>8124</td>\n",
              "      <td>8124</td>\n",
              "      <td>...</td>\n",
              "      <td>8124</td>\n",
              "      <td>8124</td>\n",
              "      <td>8124</td>\n",
              "      <td>8124</td>\n",
              "      <td>8124</td>\n",
              "      <td>8124</td>\n",
              "      <td>8124</td>\n",
              "      <td>8124</td>\n",
              "      <td>8124</td>\n",
              "      <td>8124</td>\n",
              "    </tr>\n",
              "    <tr>\n",
              "      <th>unique</th>\n",
              "      <td>2</td>\n",
              "      <td>6</td>\n",
              "      <td>4</td>\n",
              "      <td>10</td>\n",
              "      <td>2</td>\n",
              "      <td>9</td>\n",
              "      <td>2</td>\n",
              "      <td>2</td>\n",
              "      <td>2</td>\n",
              "      <td>12</td>\n",
              "      <td>...</td>\n",
              "      <td>4</td>\n",
              "      <td>4</td>\n",
              "      <td>9</td>\n",
              "      <td>9</td>\n",
              "      <td>1</td>\n",
              "      <td>4</td>\n",
              "      <td>3</td>\n",
              "      <td>5</td>\n",
              "      <td>9</td>\n",
              "      <td>6</td>\n",
              "    </tr>\n",
              "    <tr>\n",
              "      <th>top</th>\n",
              "      <td>e</td>\n",
              "      <td>x</td>\n",
              "      <td>y</td>\n",
              "      <td>n</td>\n",
              "      <td>f</td>\n",
              "      <td>n</td>\n",
              "      <td>f</td>\n",
              "      <td>c</td>\n",
              "      <td>b</td>\n",
              "      <td>b</td>\n",
              "      <td>...</td>\n",
              "      <td>s</td>\n",
              "      <td>s</td>\n",
              "      <td>w</td>\n",
              "      <td>w</td>\n",
              "      <td>p</td>\n",
              "      <td>w</td>\n",
              "      <td>o</td>\n",
              "      <td>p</td>\n",
              "      <td>w</td>\n",
              "      <td>v</td>\n",
              "    </tr>\n",
              "    <tr>\n",
              "      <th>freq</th>\n",
              "      <td>4208</td>\n",
              "      <td>3656</td>\n",
              "      <td>3244</td>\n",
              "      <td>2284</td>\n",
              "      <td>4748</td>\n",
              "      <td>3528</td>\n",
              "      <td>7914</td>\n",
              "      <td>6812</td>\n",
              "      <td>5612</td>\n",
              "      <td>1728</td>\n",
              "      <td>...</td>\n",
              "      <td>5176</td>\n",
              "      <td>4936</td>\n",
              "      <td>4464</td>\n",
              "      <td>4384</td>\n",
              "      <td>8124</td>\n",
              "      <td>7924</td>\n",
              "      <td>7488</td>\n",
              "      <td>3968</td>\n",
              "      <td>2388</td>\n",
              "      <td>4040</td>\n",
              "    </tr>\n",
              "  </tbody>\n",
              "</table>\n",
              "<p>4 rows × 21 columns</p>\n",
              "</div>"
            ],
            "text/plain": [
              "       class cap_shape cap_surface cap_color bruises  odor gill_attachment  \\\n",
              "count   8124      8124        8124      8124    8124  8124            8124   \n",
              "unique     2         6           4        10       2     9               2   \n",
              "top        e         x           y         n       f     n               f   \n",
              "freq    4208      3656        3244      2284    4748  3528            7914   \n",
              "\n",
              "       gill_spacing gill_size gill_color   ...   stalk_surface_above_ring  \\\n",
              "count          8124      8124       8124   ...                       8124   \n",
              "unique            2         2         12   ...                          4   \n",
              "top               c         b          b   ...                          s   \n",
              "freq           6812      5612       1728   ...                       5176   \n",
              "\n",
              "       stalk_surface_below_ring stalk_color_below_ring veil_type veil_color  \\\n",
              "count                      8124                   8124      8124       8124   \n",
              "unique                        4                      9         9          1   \n",
              "top                           s                      w         w          p   \n",
              "freq                       4936                   4464      4384       8124   \n",
              "\n",
              "       ring_number ring_type spore_print_color population habitat  \n",
              "count         8124      8124              8124       8124    8124  \n",
              "unique           4         3                 5          9       6  \n",
              "top              w         o                 p          w       v  \n",
              "freq          7924      7488              3968       2388    4040  \n",
              "\n",
              "[4 rows x 21 columns]"
            ]
          },
          "metadata": {
            "tags": []
          },
          "execution_count": 126
        }
      ]
    },
    {
      "metadata": {
        "id": "qASO8dr4uKpI",
        "colab_type": "code",
        "colab": {
          "base_uri": "https://localhost:8080/",
          "height": 123
        },
        "outputId": "80808057-adfb-4d99-a414-1de87ced629a"
      },
      "cell_type": "code",
      "source": [
        "data.columns.values"
      ],
      "execution_count": 127,
      "outputs": [
        {
          "output_type": "execute_result",
          "data": {
            "text/plain": [
              "array(['class', 'cap_shape', 'cap_surface', 'cap_color', 'bruises',\n",
              "       'odor', 'gill_attachment', 'gill_spacing', 'gill_size',\n",
              "       'gill_color', 'stalk_shape', 'stalk_surface_above_ring',\n",
              "       'stalk_surface_below_ring', 'stalk_color_below_ring', 'veil_type',\n",
              "       'veil_color', 'ring_number', 'ring_type', 'spore_print_color',\n",
              "       'population', 'habitat'], dtype=object)"
            ]
          },
          "metadata": {
            "tags": []
          },
          "execution_count": 127
        }
      ]
    },
    {
      "metadata": {
        "id": "x1X06XWTbzmR",
        "colab_type": "code",
        "colab": {
          "base_uri": "https://localhost:8080/",
          "height": 166
        },
        "outputId": "14f68834-1028-429f-a66c-d4dd5c063618"
      },
      "cell_type": "code",
      "source": [
        "# Preprocessing the dataset. Columns which contain only 2 possible values LabelEncoder is used otherwise One-hot encoding\n",
        "\n",
        "encoder = preprocessing.LabelEncoder()\n",
        "\n",
        "for column in data.columns:\n",
        "  if len(data[column].value_counts()) == 2:\n",
        "    data[column] = encoder.fit_transform(data[column])\n",
        "\n",
        "    \n",
        "data = pd.get_dummies(data)\n",
        "    \n",
        "data.head(3) "
      ],
      "execution_count": 128,
      "outputs": [
        {
          "output_type": "execute_result",
          "data": {
            "text/html": [
              "<div>\n",
              "<style scoped>\n",
              "    .dataframe tbody tr th:only-of-type {\n",
              "        vertical-align: middle;\n",
              "    }\n",
              "\n",
              "    .dataframe tbody tr th {\n",
              "        vertical-align: top;\n",
              "    }\n",
              "\n",
              "    .dataframe thead th {\n",
              "        text-align: right;\n",
              "    }\n",
              "</style>\n",
              "<table border=\"1\" class=\"dataframe\">\n",
              "  <thead>\n",
              "    <tr style=\"text-align: right;\">\n",
              "      <th></th>\n",
              "      <th>class</th>\n",
              "      <th>bruises</th>\n",
              "      <th>gill_attachment</th>\n",
              "      <th>gill_spacing</th>\n",
              "      <th>gill_size</th>\n",
              "      <th>stalk_shape</th>\n",
              "      <th>cap_shape_b</th>\n",
              "      <th>cap_shape_c</th>\n",
              "      <th>cap_shape_f</th>\n",
              "      <th>cap_shape_k</th>\n",
              "      <th>...</th>\n",
              "      <th>population_r</th>\n",
              "      <th>population_u</th>\n",
              "      <th>population_w</th>\n",
              "      <th>population_y</th>\n",
              "      <th>habitat_a</th>\n",
              "      <th>habitat_c</th>\n",
              "      <th>habitat_n</th>\n",
              "      <th>habitat_s</th>\n",
              "      <th>habitat_v</th>\n",
              "      <th>habitat_y</th>\n",
              "    </tr>\n",
              "  </thead>\n",
              "  <tbody>\n",
              "    <tr>\n",
              "      <th>0</th>\n",
              "      <td>1</td>\n",
              "      <td>1</td>\n",
              "      <td>1</td>\n",
              "      <td>0</td>\n",
              "      <td>1</td>\n",
              "      <td>0</td>\n",
              "      <td>0</td>\n",
              "      <td>0</td>\n",
              "      <td>0</td>\n",
              "      <td>0</td>\n",
              "      <td>...</td>\n",
              "      <td>0</td>\n",
              "      <td>0</td>\n",
              "      <td>0</td>\n",
              "      <td>0</td>\n",
              "      <td>0</td>\n",
              "      <td>0</td>\n",
              "      <td>0</td>\n",
              "      <td>1</td>\n",
              "      <td>0</td>\n",
              "      <td>0</td>\n",
              "    </tr>\n",
              "    <tr>\n",
              "      <th>1</th>\n",
              "      <td>0</td>\n",
              "      <td>1</td>\n",
              "      <td>1</td>\n",
              "      <td>0</td>\n",
              "      <td>0</td>\n",
              "      <td>0</td>\n",
              "      <td>0</td>\n",
              "      <td>0</td>\n",
              "      <td>0</td>\n",
              "      <td>0</td>\n",
              "      <td>...</td>\n",
              "      <td>0</td>\n",
              "      <td>0</td>\n",
              "      <td>0</td>\n",
              "      <td>0</td>\n",
              "      <td>0</td>\n",
              "      <td>0</td>\n",
              "      <td>1</td>\n",
              "      <td>0</td>\n",
              "      <td>0</td>\n",
              "      <td>0</td>\n",
              "    </tr>\n",
              "    <tr>\n",
              "      <th>2</th>\n",
              "      <td>0</td>\n",
              "      <td>1</td>\n",
              "      <td>1</td>\n",
              "      <td>0</td>\n",
              "      <td>0</td>\n",
              "      <td>0</td>\n",
              "      <td>1</td>\n",
              "      <td>0</td>\n",
              "      <td>0</td>\n",
              "      <td>0</td>\n",
              "      <td>...</td>\n",
              "      <td>0</td>\n",
              "      <td>0</td>\n",
              "      <td>0</td>\n",
              "      <td>0</td>\n",
              "      <td>0</td>\n",
              "      <td>0</td>\n",
              "      <td>1</td>\n",
              "      <td>0</td>\n",
              "      <td>0</td>\n",
              "      <td>0</td>\n",
              "    </tr>\n",
              "  </tbody>\n",
              "</table>\n",
              "<p>3 rows × 101 columns</p>\n",
              "</div>"
            ],
            "text/plain": [
              "   class  bruises  gill_attachment  gill_spacing  gill_size  stalk_shape  \\\n",
              "0      1        1                1             0          1            0   \n",
              "1      0        1                1             0          0            0   \n",
              "2      0        1                1             0          0            0   \n",
              "\n",
              "   cap_shape_b  cap_shape_c  cap_shape_f  cap_shape_k    ...      \\\n",
              "0            0            0            0            0    ...       \n",
              "1            0            0            0            0    ...       \n",
              "2            1            0            0            0    ...       \n",
              "\n",
              "   population_r  population_u  population_w  population_y  habitat_a  \\\n",
              "0             0             0             0             0          0   \n",
              "1             0             0             0             0          0   \n",
              "2             0             0             0             0          0   \n",
              "\n",
              "   habitat_c  habitat_n  habitat_s  habitat_v  habitat_y  \n",
              "0          0          0          1          0          0  \n",
              "1          0          1          0          0          0  \n",
              "2          0          1          0          0          0  \n",
              "\n",
              "[3 rows x 101 columns]"
            ]
          },
          "metadata": {
            "tags": []
          },
          "execution_count": 128
        }
      ]
    },
    {
      "metadata": {
        "id": "z4LTdhjGpCuM",
        "colab_type": "code",
        "colab": {
          "base_uri": "https://localhost:8080/",
          "height": 375
        },
        "outputId": "706aa19a-7480-473a-a7d3-3a3f3ffc5811"
      },
      "cell_type": "code",
      "source": [
        "squared_distance = []\n",
        "\n",
        "K = range(1,15)\n",
        "\n",
        "for k in K:\n",
        "  kmeans = KMeans(n_clusters=k).fit(X)\n",
        "  kmeans.fit(X)\n",
        "  squared_distance.append(kmeans.inertia_)\n",
        "  \n",
        "plt.plot(K, squared_distance, 'bx-')\n",
        "plt.xlabel('k')\n",
        "plt.ylabel('Inertia')\n",
        "plt.title('The Elbow Method showing the optimal k')\n",
        "plt.show()"
      ],
      "execution_count": 129,
      "outputs": [
        {
          "output_type": "display_data",
          "data": {
            "image/png": "[encoded data removed]",
            "text/plain": [
              "<matplotlib.figure.Figure at 0x7f01fa0eb320>"
            ]
          },
          "metadata": {
            "tags": []
          }
        }
      ]
    },
    {
      "metadata": {
        "id": "kq3GRNKVmu1s",
        "colab_type": "code",
        "colab": {
          "base_uri": "https://localhost:8080/",
          "height": 166
        },
        "outputId": "67dffbd1-3832-4c6b-a4a5-06cf21438f6a"
      },
      "cell_type": "code",
      "source": [
        "#Run Kmeans clustering using optimal amount of clusters 4\n",
        "# Afer looking at the graph above which shows the optimal K, I have decided to use K=4 meaning that the KMeans will create 4 clusters\n",
        "\n",
        "kmeans = KMeans(n_clusters=4)\n",
        "\n",
        "kmeans.fit(X)\n",
        "\n",
        "cluster1 = []\n",
        "cluster2 = []\n",
        "cluster3 = []\n",
        "cluster4 = []\n",
        "\n",
        "for cluster in kmeans.labels_:\n",
        "  if cluster == 0:\n",
        "    cluster1.append(0)\n",
        "    cluster2.append(0)\n",
        "    cluster3.append(0)\n",
        "    cluster4.append(0)\n",
        "  elif cluster == 1:\n",
        "    cluster1.append(0)\n",
        "    cluster2.append(1)\n",
        "    cluster3.append(0)\n",
        "    cluster4.append(0)\n",
        "  elif cluster == 2:\n",
        "    cluster1.append(0)\n",
        "    cluster2.append(0)\n",
        "    cluster3.append(1)\n",
        "    cluster4.append(0)\n",
        "  else: \n",
        "    cluster1.append(0)\n",
        "    cluster2.append(0)\n",
        "    cluster3.append(0)\n",
        "    cluster4.append(1)\n",
        "    \n",
        "    \n",
        "clusters = pd.DataFrame({\"cluster_1\": cluster1, \"cluster_2\": cluster2, \"cluster_3\": cluster3, \"cluster_4\": cluster4})\n",
        "data_cluster = data.join(clusters)\n",
        "data_cluster.head(3)\n",
        "  \n",
        "    "
      ],
      "execution_count": 130,
      "outputs": [
        {
          "output_type": "execute_result",
          "data": {
            "text/html": [
              "<div>\n",
              "<style scoped>\n",
              "    .dataframe tbody tr th:only-of-type {\n",
              "        vertical-align: middle;\n",
              "    }\n",
              "\n",
              "    .dataframe tbody tr th {\n",
              "        vertical-align: top;\n",
              "    }\n",
              "\n",
              "    .dataframe thead th {\n",
              "        text-align: right;\n",
              "    }\n",
              "</style>\n",
              "<table border=\"1\" class=\"dataframe\">\n",
              "  <thead>\n",
              "    <tr style=\"text-align: right;\">\n",
              "      <th></th>\n",
              "      <th>class</th>\n",
              "      <th>bruises</th>\n",
              "      <th>gill_attachment</th>\n",
              "      <th>gill_spacing</th>\n",
              "      <th>gill_size</th>\n",
              "      <th>stalk_shape</th>\n",
              "      <th>cap_shape_b</th>\n",
              "      <th>cap_shape_c</th>\n",
              "      <th>cap_shape_f</th>\n",
              "      <th>cap_shape_k</th>\n",
              "      <th>...</th>\n",
              "      <th>habitat_a</th>\n",
              "      <th>habitat_c</th>\n",
              "      <th>habitat_n</th>\n",
              "      <th>habitat_s</th>\n",
              "      <th>habitat_v</th>\n",
              "      <th>habitat_y</th>\n",
              "      <th>cluster_1</th>\n",
              "      <th>cluster_2</th>\n",
              "      <th>cluster_3</th>\n",
              "      <th>cluster_4</th>\n",
              "    </tr>\n",
              "  </thead>\n",
              "  <tbody>\n",
              "    <tr>\n",
              "      <th>0</th>\n",
              "      <td>1</td>\n",
              "      <td>1</td>\n",
              "      <td>1</td>\n",
              "      <td>0</td>\n",
              "      <td>1</td>\n",
              "      <td>0</td>\n",
              "      <td>0</td>\n",
              "      <td>0</td>\n",
              "      <td>0</td>\n",
              "      <td>0</td>\n",
              "      <td>...</td>\n",
              "      <td>0</td>\n",
              "      <td>0</td>\n",
              "      <td>0</td>\n",
              "      <td>1</td>\n",
              "      <td>0</td>\n",
              "      <td>0</td>\n",
              "      <td>0</td>\n",
              "      <td>0</td>\n",
              "      <td>0</td>\n",
              "      <td>1</td>\n",
              "    </tr>\n",
              "    <tr>\n",
              "      <th>1</th>\n",
              "      <td>0</td>\n",
              "      <td>1</td>\n",
              "      <td>1</td>\n",
              "      <td>0</td>\n",
              "      <td>0</td>\n",
              "      <td>0</td>\n",
              "      <td>0</td>\n",
              "      <td>0</td>\n",
              "      <td>0</td>\n",
              "      <td>0</td>\n",
              "      <td>...</td>\n",
              "      <td>0</td>\n",
              "      <td>0</td>\n",
              "      <td>1</td>\n",
              "      <td>0</td>\n",
              "      <td>0</td>\n",
              "      <td>0</td>\n",
              "      <td>0</td>\n",
              "      <td>0</td>\n",
              "      <td>0</td>\n",
              "      <td>1</td>\n",
              "    </tr>\n",
              "    <tr>\n",
              "      <th>2</th>\n",
              "      <td>0</td>\n",
              "      <td>1</td>\n",
              "      <td>1</td>\n",
              "      <td>0</td>\n",
              "      <td>0</td>\n",
              "      <td>0</td>\n",
              "      <td>1</td>\n",
              "      <td>0</td>\n",
              "      <td>0</td>\n",
              "      <td>0</td>\n",
              "      <td>...</td>\n",
              "      <td>0</td>\n",
              "      <td>0</td>\n",
              "      <td>1</td>\n",
              "      <td>0</td>\n",
              "      <td>0</td>\n",
              "      <td>0</td>\n",
              "      <td>0</td>\n",
              "      <td>0</td>\n",
              "      <td>0</td>\n",
              "      <td>1</td>\n",
              "    </tr>\n",
              "  </tbody>\n",
              "</table>\n",
              "<p>3 rows × 105 columns</p>\n",
              "</div>"
            ],
            "text/plain": [
              "   class  bruises  gill_attachment  gill_spacing  gill_size  stalk_shape  \\\n",
              "0      1        1                1             0          1            0   \n",
              "1      0        1                1             0          0            0   \n",
              "2      0        1                1             0          0            0   \n",
              "\n",
              "   cap_shape_b  cap_shape_c  cap_shape_f  cap_shape_k    ...      habitat_a  \\\n",
              "0            0            0            0            0    ...              0   \n",
              "1            0            0            0            0    ...              0   \n",
              "2            1            0            0            0    ...              0   \n",
              "\n",
              "   habitat_c  habitat_n  habitat_s  habitat_v  habitat_y  cluster_1  \\\n",
              "0          0          0          1          0          0          0   \n",
              "1          0          1          0          0          0          0   \n",
              "2          0          1          0          0          0          0   \n",
              "\n",
              "   cluster_2  cluster_3  cluster_4  \n",
              "0          0          0          1  \n",
              "1          0          0          1  \n",
              "2          0          0          1  \n",
              "\n",
              "[3 rows x 105 columns]"
            ]
          },
          "metadata": {
            "tags": []
          },
          "execution_count": 130
        }
      ]
    },
    {
      "metadata": {
        "id": "LAz-t1gohk_3",
        "colab_type": "code",
        "colab": {
          "base_uri": "https://localhost:8080/",
          "height": 374
        },
        "outputId": "7b555a9e-74fa-4395-9f99-921ef8eadf56"
      },
      "cell_type": "code",
      "source": [
        "# Plotting the number of poisonous and edible classes - (1) = Poisonous (0) = Edible\n",
        "\n",
        "plt.figure()\n",
        "pd.Series(data['class']).value_counts().sort_index().plot(kind = 'bar')\n",
        "plt.ylabel(\"Count\")\n",
        "plt.xlabel(\"class\")\n"
      ],
      "execution_count": 131,
      "outputs": [
        {
          "output_type": "execute_result",
          "data": {
            "text/plain": [
              "Text(0.5,0,'class')"
            ]
          },
          "metadata": {
            "tags": []
          },
          "execution_count": 131
        },
        {
          "output_type": "display_data",
          "data": {
            "image/png": "[encoded data removed]",
            "text/plain": [
              "<matplotlib.figure.Figure at 0x7f01cfa602b0>"
            ]
          },
          "metadata": {
            "tags": []
          }
        }
      ]
    },
    {
      "metadata": {
        "id": "XHmarRUckjEt",
        "colab_type": "code",
        "colab": {}
      },
      "cell_type": "code",
      "source": [
        "# Creating X and Y, X will contain all the input values and Y will only contain the target which is the class column\n",
        "\n",
        "X=data_cluster.drop(['class'], axis=1)\n",
        "Y=data_cluster['class']"
      ],
      "execution_count": 0,
      "outputs": []
    },
    {
      "metadata": {
        "id": "PwFWSwHqlQla",
        "colab_type": "code",
        "colab": {}
      },
      "cell_type": "code",
      "source": [
        "# Splitting the dataset up so 70% of it will be used for testing and the other 30% will be used for the test set\n",
        "\n",
        "X_train, X_test,Y_train,Y_test = train_test_split(X,Y, test_size = 0.3, random_state=23)"
      ],
      "execution_count": 0,
      "outputs": []
    },
    {
      "metadata": {
        "id": "TvvAQx1r1auD",
        "colab_type": "code",
        "colab": {
          "base_uri": "https://localhost:8080/",
          "height": 897
        },
        "outputId": "6f753e73-3fc4-44c8-cca4-b780bfbcca3f"
      },
      "cell_type": "code",
      "source": [
        "# Parameter C is used to inverse the regulaisation strength, as C increased the complexity the model can reach increases\n",
        "\n",
        "C_param_range = [0.001,0.005,0.01,0.05,0.1,0.25,0.5,0.75,1,1.25]\n",
        "ratio = []\n",
        "\n",
        "# Looping through the different values of C while randomly changing the random state, to analyse which C value producing the closest ratio to 1\n",
        "\n",
        "for c in C_param_range:\n",
        "  \n",
        "  clf = linear_model.LogisticRegression(C=c, random_state=random.randint(1,101))\n",
        "  \n",
        "  clf.fit(X_train, Y_train)\n",
        "  \n",
        "  print(\"This model has an overall accuracy using the test set of {}\".format(clf.score(X_test, Y_test)))\n",
        "  print(\"This model has an overall accuracy using the train set of {}\".format(clf.score(X_train, Y_train)))\n",
        "  print(\"The ratio is: {}\".format(clf.score(X_test, Y_test)/(clf.score(X_train, Y_train))))\n",
        "    \n",
        "  ratio.append(clf.score(X_test, Y_test)/(clf.score(X_train, Y_train)))\n",
        "  \n",
        "  data_test = pd.DataFrame(ratio)\n",
        "data_test.plot(ylim = [0.90,1.05])\n"
      ],
      "execution_count": 149,
      "outputs": [
        {
          "output_type": "stream",
          "text": [
            "This model has an overall accuracy using the test set of 0.9138638228055783\n",
            "This model has an overall accuracy using the train set of 0.9187478016180092\n",
            "The ratio is: 0.9946840919740655\n",
            "This model has an overall accuracy using the test set of 0.9766201804757998\n",
            "This model has an overall accuracy using the train set of 0.9771368272951108\n",
            "The ratio is: 0.9994712646122026\n",
            "This model has an overall accuracy using the test set of 0.9835931091058244\n",
            "This model has an overall accuracy using the train set of 0.9843475202251143\n",
            "The ratio is: 0.9992335927060422\n",
            "This model has an overall accuracy using the test set of 0.9913863822805579\n",
            "This model has an overall accuracy using the train set of 0.9929651776292648\n",
            "The ratio is: 0.9984100194203422\n",
            "This model has an overall accuracy using the test set of 0.9963084495488105\n",
            "This model has an overall accuracy using the train set of 0.9978895532887795\n",
            "The ratio is: 0.9984155523677364\n",
            "This model has an overall accuracy using the test set of 0.9991796554552912\n",
            "This model has an overall accuracy using the train set of 0.9989447766443897\n",
            "The ratio is: 1.0002351269223215\n",
            "This model has an overall accuracy using the test set of 0.9991796554552912\n",
            "This model has an overall accuracy using the train set of 0.9996482588814632\n",
            "The ratio is: 0.9995312316887378\n",
            "This model has an overall accuracy using the test set of 0.9991796554552912\n",
            "This model has an overall accuracy using the train set of 0.9996482588814632\n",
            "The ratio is: 0.9995312316887378\n",
            "This model has an overall accuracy using the test set of 0.9995898277276456\n",
            "This model has an overall accuracy using the train set of 0.9996482588814632\n",
            "The ratio is: 0.9999415482863112\n",
            "This model has an overall accuracy using the test set of 1.0\n",
            "This model has an overall accuracy using the train set of 0.9998241294407316\n",
            "The ratio is: 1.0001759014951628\n"
          ],
          "name": "stdout"
        },
        {
          "output_type": "execute_result",
          "data": {
            "text/plain": [
              "<matplotlib.axes._subplots.AxesSubplot at 0x7f01cf589278>"
            ]
          },
          "metadata": {
            "tags": []
          },
          "execution_count": 149
        },
        {
          "output_type": "display_data",
          "data": {
            "image/png": "[encoded data removed]",
            "text/plain": [
              "<matplotlib.figure.Figure at 0x7f01cf460f60>"
            ]
          },
          "metadata": {
            "tags": []
          }
        }
      ]
    },
    {
      "metadata": {
        "id": "LW67w2sR7nkb",
        "colab_type": "code",
        "colab": {}
      },
      "cell_type": "code",
      "source": [
        "clf = tree.DecisionTreeClassifier(max_depth=4, random_state=38)"
      ],
      "execution_count": 0,
      "outputs": []
    },
    {
      "metadata": {
        "id": "r5sAxbFxeOWk",
        "colab_type": "code",
        "colab": {
          "base_uri": "https://localhost:8080/",
          "height": 123
        },
        "outputId": "e3166b56-cb17-4e3a-be18-2438971d70ff"
      },
      "cell_type": "code",
      "source": [
        "clf.fit(X_train, Y_train)"
      ],
      "execution_count": 136,
      "outputs": [
        {
          "output_type": "execute_result",
          "data": {
            "text/plain": [
              "DecisionTreeClassifier(class_weight=None, criterion='gini', max_depth=4,\n",
              "            max_features=None, max_leaf_nodes=None,\n",
              "            min_impurity_decrease=0.0, min_impurity_split=None,\n",
              "            min_samples_leaf=1, min_samples_split=2,\n",
              "            min_weight_fraction_leaf=0.0, presort=False, random_state=38,\n",
              "            splitter='best')"
            ]
          },
          "metadata": {
            "tags": []
          },
          "execution_count": 136
        }
      ]
    },
    {
      "metadata": {
        "id": "tEs8bhCZjDvP",
        "colab_type": "code",
        "colab": {
          "base_uri": "https://localhost:8080/",
          "height": 105
        },
        "outputId": "9e01848f-7d9b-4acb-dcc4-1a1d69c22ce6"
      },
      "cell_type": "code",
      "source": [
        "!apt install graphviz"
      ],
      "execution_count": 137,
      "outputs": [
        {
          "output_type": "stream",
          "text": [
            "Reading package lists... Done\n",
            "Building dependency tree       \n",
            "Reading state information... Done\n",
            "graphviz is already the newest version (2.38.0-16ubuntu2).\n",
            "0 upgraded, 0 newly installed, 0 to remove and 0 not upgraded.\n"
          ],
          "name": "stdout"
        }
      ]
    },
    {
      "metadata": {
        "id": "X7ZUlmF6jHlg",
        "colab_type": "code",
        "colab": {
          "base_uri": "https://localhost:8080/",
          "height": 34
        },
        "outputId": "aef338f1-45b4-44cc-f56a-6f76cbeb9d29"
      },
      "cell_type": "code",
      "source": [
        "!pip install graphviz"
      ],
      "execution_count": 138,
      "outputs": [
        {
          "output_type": "stream",
          "text": [
            "Requirement already satisfied: graphviz in /usr/local/lib/python3.6/dist-packages (0.9)\n"
          ],
          "name": "stdout"
        }
      ]
    },
    {
      "metadata": {
        "id": "6LJBDtcKjMKh",
        "colab_type": "code",
        "colab": {
          "base_uri": "https://localhost:8080/",
          "height": 657
        },
        "outputId": "1d921ee7-3819-487c-9d2f-59bc75c3ef9a"
      },
      "cell_type": "code",
      "source": [
        "import graphviz\n",
        "\n",
        "tree.export_graphviz(clf, out_file=\"/tmp/tree.dot\")\n",
        "with open(\"/tmp/tree.dot\") as f:\n",
        "    dot_graph = f.read()\n",
        "\n",
        "graphviz.Source(dot_graph)"
      ],
      "execution_count": 139,
      "outputs": [
        {
          "output_type": "execute_result",
          "data": {
            "text/plain": [
              "<graphviz.files.Source at 0x7f01cfa545c0>"
            ],
            "image/svg+xml": "<?xml version=\"1.0\" encoding=\"UTF-8\" standalone=\"no\"?>\n<!DOCTYPE svg PUBLIC \"-//W3C//DTD SVG 1.1//EN\"\n \"http://www.w3.org/Graphics/SVG/1.1/DTD/svg11.dtd\">\n<!-- Generated by graphviz version 2.38.0 (20140413.2041)\n -->\n<!-- Title: Tree Pages: 1 -->\n<svg width=\"883pt\" height=\"477pt\"\n viewBox=\"0.00 0.00 882.50 477.00\" xmlns=\"http://www.w3.org/2000/svg\" xmlns:xlink=\"http://www.w3.org/1999/xlink\">\n<g id=\"graph0\" class=\"graph\" transform=\"scale(1 1) rotate(0) translate(4 473)\">\n<title>Tree</title>\n<polygon fill=\"white\" stroke=\"none\" points=\"-4,4 -4,-473 878.5,-473 878.5,4 -4,4\"/>\n<!-- 0 -->\n<g id=\"node1\" class=\"node\"><title>0</title>\n<polygon fill=\"none\" stroke=\"black\" points=\"532,-469 365,-469 365,-401 532,-401 532,-469\"/>\n<text text-anchor=\"middle\" x=\"448.5\" y=\"-453.8\" font-family=\"Times,serif\" font-size=\"14.00\">X[30] &lt;= 0.5</text>\n<text text-anchor=\"middle\" x=\"448.5\" y=\"-438.8\" font-family=\"Times,serif\" font-size=\"14.00\">gini = 0.499</text>\n<text text-anchor=\"middle\" x=\"448.5\" y=\"-423.8\" font-family=\"Times,serif\" font-size=\"14.00\">samples = 5686</text>\n<text text-anchor=\"middle\" x=\"448.5\" y=\"-408.8\" font-family=\"Times,serif\" font-size=\"14.00\">value = [2956, 2730]</text>\n</g>\n<!-- 1 -->\n<g id=\"node2\" class=\"node\"><title>1</title>\n<polygon fill=\"none\" stroke=\"black\" points=\"442.5,-365 284.5,-365 284.5,-297 442.5,-297 442.5,-365\"/>\n<text text-anchor=\"middle\" x=\"363.5\" y=\"-349.8\" font-family=\"Times,serif\" font-size=\"14.00\">X[0] &lt;= 0.5</text>\n<text text-anchor=\"middle\" x=\"363.5\" y=\"-334.8\" font-family=\"Times,serif\" font-size=\"14.00\">gini = 0.288</text>\n<text text-anchor=\"middle\" x=\"363.5\" y=\"-319.8\" font-family=\"Times,serif\" font-size=\"14.00\">samples = 3197</text>\n<text text-anchor=\"middle\" x=\"363.5\" y=\"-304.8\" font-family=\"Times,serif\" font-size=\"14.00\">value = [558, 2639]</text>\n</g>\n<!-- 0&#45;&gt;1 -->\n<g id=\"edge1\" class=\"edge\"><title>0&#45;&gt;1</title>\n<path fill=\"none\" stroke=\"black\" d=\"M420.903,-400.884C413.554,-392.065 405.525,-382.43 397.863,-373.235\"/>\n<polygon fill=\"black\" stroke=\"black\" points=\"400.34,-370.741 391.249,-365.299 394.963,-375.222 400.34,-370.741\"/>\n<text text-anchor=\"middle\" x=\"388.986\" y=\"-386.497\" font-family=\"Times,serif\" font-size=\"14.00\">True</text>\n</g>\n<!-- 8 -->\n<g id=\"node9\" class=\"node\"><title>8</title>\n<polygon fill=\"none\" stroke=\"black\" points=\"609,-365 460,-365 460,-297 609,-297 609,-365\"/>\n<text text-anchor=\"middle\" x=\"534.5\" y=\"-349.8\" font-family=\"Times,serif\" font-size=\"14.00\">X[90] &lt;= 0.5</text>\n<text text-anchor=\"middle\" x=\"534.5\" y=\"-334.8\" font-family=\"Times,serif\" font-size=\"14.00\">gini = 0.07</text>\n<text text-anchor=\"middle\" x=\"534.5\" y=\"-319.8\" font-family=\"Times,serif\" font-size=\"14.00\">samples = 2489</text>\n<text text-anchor=\"middle\" x=\"534.5\" y=\"-304.8\" font-family=\"Times,serif\" font-size=\"14.00\">value = [2398, 91]</text>\n</g>\n<!-- 0&#45;&gt;8 -->\n<g id=\"edge8\" class=\"edge\"><title>0&#45;&gt;8</title>\n<path fill=\"none\" stroke=\"black\" d=\"M476.422,-400.884C483.932,-391.976 492.145,-382.235 499.968,-372.957\"/>\n<polygon fill=\"black\" stroke=\"black\" points=\"502.654,-375.201 506.424,-365.299 497.302,-370.689 502.654,-375.201\"/>\n<text text-anchor=\"middle\" x=\"508.544\" y=\"-386.509\" font-family=\"Times,serif\" font-size=\"14.00\">False</text>\n</g>\n<!-- 2 -->\n<g id=\"node3\" class=\"node\"><title>2</title>\n<polygon fill=\"none\" stroke=\"black\" points=\"271.5,-253.5 131.5,-253.5 131.5,-200.5 271.5,-200.5 271.5,-253.5\"/>\n<text text-anchor=\"middle\" x=\"201.5\" y=\"-238.3\" font-family=\"Times,serif\" font-size=\"14.00\">gini = 0.0</text>\n<text text-anchor=\"middle\" x=\"201.5\" y=\"-223.3\" font-family=\"Times,serif\" font-size=\"14.00\">samples = 2264</text>\n<text text-anchor=\"middle\" x=\"201.5\" y=\"-208.3\" font-family=\"Times,serif\" font-size=\"14.00\">value = [0, 2264]</text>\n</g>\n<!-- 1&#45;&gt;2 -->\n<g id=\"edge2\" class=\"edge\"><title>1&#45;&gt;2</title>\n<path fill=\"none\" stroke=\"black\" d=\"M310.903,-296.884C291.515,-284.676 269.64,-270.903 250.575,-258.899\"/>\n<polygon fill=\"black\" stroke=\"black\" points=\"252.359,-255.886 242.032,-253.52 248.629,-261.81 252.359,-255.886\"/>\n</g>\n<!-- 3 -->\n<g id=\"node4\" class=\"node\"><title>3</title>\n<polygon fill=\"none\" stroke=\"black\" points=\"439,-261 290,-261 290,-193 439,-193 439,-261\"/>\n<text text-anchor=\"middle\" x=\"364.5\" y=\"-245.8\" font-family=\"Times,serif\" font-size=\"14.00\">X[27] &lt;= 0.5</text>\n<text text-anchor=\"middle\" x=\"364.5\" y=\"-230.8\" font-family=\"Times,serif\" font-size=\"14.00\">gini = 0.481</text>\n<text text-anchor=\"middle\" x=\"364.5\" y=\"-215.8\" font-family=\"Times,serif\" font-size=\"14.00\">samples = 933</text>\n<text text-anchor=\"middle\" x=\"364.5\" y=\"-200.8\" font-family=\"Times,serif\" font-size=\"14.00\">value = [558, 375]</text>\n</g>\n<!-- 1&#45;&gt;3 -->\n<g id=\"edge3\" class=\"edge\"><title>1&#45;&gt;3</title>\n<path fill=\"none\" stroke=\"black\" d=\"M363.825,-296.884C363.904,-288.778 363.99,-279.982 364.074,-271.472\"/>\n<polygon fill=\"black\" stroke=\"black\" points=\"367.575,-271.333 364.174,-261.299 360.576,-271.265 367.575,-271.333\"/>\n</g>\n<!-- 4 -->\n<g id=\"node5\" class=\"node\"><title>4</title>\n<polygon fill=\"none\" stroke=\"black\" points=\"283,-157 134,-157 134,-89 283,-89 283,-157\"/>\n<text text-anchor=\"middle\" x=\"208.5\" y=\"-141.8\" font-family=\"Times,serif\" font-size=\"14.00\">X[31] &lt;= 0.5</text>\n<text text-anchor=\"middle\" x=\"208.5\" y=\"-126.8\" font-family=\"Times,serif\" font-size=\"14.00\">gini = 0.365</text>\n<text text-anchor=\"middle\" x=\"208.5\" y=\"-111.8\" font-family=\"Times,serif\" font-size=\"14.00\">samples = 734</text>\n<text text-anchor=\"middle\" x=\"208.5\" y=\"-96.8\" font-family=\"Times,serif\" font-size=\"14.00\">value = [558, 176]</text>\n</g>\n<!-- 3&#45;&gt;4 -->\n<g id=\"edge4\" class=\"edge\"><title>3&#45;&gt;4</title>\n<path fill=\"none\" stroke=\"black\" d=\"M313.851,-192.884C299.2,-183.304 283.075,-172.761 267.94,-162.864\"/>\n<polygon fill=\"black\" stroke=\"black\" points=\"269.446,-159.668 259.161,-157.125 265.616,-165.527 269.446,-159.668\"/>\n</g>\n<!-- 7 -->\n<g id=\"node8\" class=\"node\"><title>7</title>\n<polygon fill=\"none\" stroke=\"black\" points=\"432,-149.5 301,-149.5 301,-96.5 432,-96.5 432,-149.5\"/>\n<text text-anchor=\"middle\" x=\"366.5\" y=\"-134.3\" font-family=\"Times,serif\" font-size=\"14.00\">gini = 0.0</text>\n<text text-anchor=\"middle\" x=\"366.5\" y=\"-119.3\" font-family=\"Times,serif\" font-size=\"14.00\">samples = 199</text>\n<text text-anchor=\"middle\" x=\"366.5\" y=\"-104.3\" font-family=\"Times,serif\" font-size=\"14.00\">value = [0, 199]</text>\n</g>\n<!-- 3&#45;&gt;7 -->\n<g id=\"edge7\" class=\"edge\"><title>3&#45;&gt;7</title>\n<path fill=\"none\" stroke=\"black\" d=\"M365.149,-192.884C365.359,-182.216 365.591,-170.352 365.804,-159.519\"/>\n<polygon fill=\"black\" stroke=\"black\" points=\"369.303,-159.587 366,-149.52 362.304,-159.449 369.303,-159.587\"/>\n</g>\n<!-- 5 -->\n<g id=\"node6\" class=\"node\"><title>5</title>\n<polygon fill=\"none\" stroke=\"black\" points=\"131,-53 0,-53 0,-0 131,-0 131,-53\"/>\n<text text-anchor=\"middle\" x=\"65.5\" y=\"-37.8\" font-family=\"Times,serif\" font-size=\"14.00\">gini = 0.0</text>\n<text text-anchor=\"middle\" x=\"65.5\" y=\"-22.8\" font-family=\"Times,serif\" font-size=\"14.00\">samples = 558</text>\n<text text-anchor=\"middle\" x=\"65.5\" y=\"-7.8\" font-family=\"Times,serif\" font-size=\"14.00\">value = [558, 0]</text>\n</g>\n<!-- 4&#45;&gt;5 -->\n<g id=\"edge5\" class=\"edge\"><title>4&#45;&gt;5</title>\n<path fill=\"none\" stroke=\"black\" d=\"M158.486,-88.9485C143.674,-79.1601 127.505,-68.4756 112.866,-58.8015\"/>\n<polygon fill=\"black\" stroke=\"black\" points=\"114.718,-55.83 104.445,-53.2367 110.859,-61.6701 114.718,-55.83\"/>\n</g>\n<!-- 6 -->\n<g id=\"node7\" class=\"node\"><title>6</title>\n<polygon fill=\"none\" stroke=\"black\" points=\"280,-53 149,-53 149,-0 280,-0 280,-53\"/>\n<text text-anchor=\"middle\" x=\"214.5\" y=\"-37.8\" font-family=\"Times,serif\" font-size=\"14.00\">gini = 0.0</text>\n<text text-anchor=\"middle\" x=\"214.5\" y=\"-22.8\" font-family=\"Times,serif\" font-size=\"14.00\">samples = 176</text>\n<text text-anchor=\"middle\" x=\"214.5\" y=\"-7.8\" font-family=\"Times,serif\" font-size=\"14.00\">value = [0, 176]</text>\n</g>\n<!-- 4&#45;&gt;6 -->\n<g id=\"edge6\" class=\"edge\"><title>4&#45;&gt;6</title>\n<path fill=\"none\" stroke=\"black\" d=\"M210.599,-88.9485C211.121,-80.7153 211.684,-71.848 212.215,-63.4814\"/>\n<polygon fill=\"black\" stroke=\"black\" points=\"215.725,-63.4384 212.866,-53.2367 208.739,-62.9948 215.725,-63.4384\"/>\n</g>\n<!-- 9 -->\n<g id=\"node10\" class=\"node\"><title>9</title>\n<polygon fill=\"none\" stroke=\"black\" points=\"608,-261 459,-261 459,-193 608,-193 608,-261\"/>\n<text text-anchor=\"middle\" x=\"533.5\" y=\"-245.8\" font-family=\"Times,serif\" font-size=\"14.00\">X[101] &lt;= 0.5</text>\n<text text-anchor=\"middle\" x=\"533.5\" y=\"-230.8\" font-family=\"Times,serif\" font-size=\"14.00\">gini = 0.029</text>\n<text text-anchor=\"middle\" x=\"533.5\" y=\"-215.8\" font-family=\"Times,serif\" font-size=\"14.00\">samples = 2434</text>\n<text text-anchor=\"middle\" x=\"533.5\" y=\"-200.8\" font-family=\"Times,serif\" font-size=\"14.00\">value = [2398, 36]</text>\n</g>\n<!-- 8&#45;&gt;9 -->\n<g id=\"edge9\" class=\"edge\"><title>8&#45;&gt;9</title>\n<path fill=\"none\" stroke=\"black\" d=\"M534.175,-296.884C534.096,-288.778 534.01,-279.982 533.926,-271.472\"/>\n<polygon fill=\"black\" stroke=\"black\" points=\"537.424,-271.265 533.826,-261.299 530.425,-271.333 537.424,-271.265\"/>\n</g>\n<!-- 16 -->\n<g id=\"node17\" class=\"node\"><title>16</title>\n<polygon fill=\"none\" stroke=\"black\" points=\"748.5,-253.5 626.5,-253.5 626.5,-200.5 748.5,-200.5 748.5,-253.5\"/>\n<text text-anchor=\"middle\" x=\"687.5\" y=\"-238.3\" font-family=\"Times,serif\" font-size=\"14.00\">gini = 0.0</text>\n<text text-anchor=\"middle\" x=\"687.5\" y=\"-223.3\" font-family=\"Times,serif\" font-size=\"14.00\">samples = 55</text>\n<text text-anchor=\"middle\" x=\"687.5\" y=\"-208.3\" font-family=\"Times,serif\" font-size=\"14.00\">value = [0, 55]</text>\n</g>\n<!-- 8&#45;&gt;16 -->\n<g id=\"edge16\" class=\"edge\"><title>8&#45;&gt;16</title>\n<path fill=\"none\" stroke=\"black\" d=\"M584.175,-296.884C602.321,-284.786 622.773,-271.151 640.664,-259.224\"/>\n<polygon fill=\"black\" stroke=\"black\" points=\"642.841,-261.979 649.22,-253.52 638.958,-256.155 642.841,-261.979\"/>\n</g>\n<!-- 10 -->\n<g id=\"node11\" class=\"node\"><title>10</title>\n<polygon fill=\"none\" stroke=\"black\" points=\"603,-157 454,-157 454,-89 603,-89 603,-157\"/>\n<text text-anchor=\"middle\" x=\"528.5\" y=\"-141.8\" font-family=\"Times,serif\" font-size=\"14.00\">X[71] &lt;= 0.5</text>\n<text text-anchor=\"middle\" x=\"528.5\" y=\"-126.8\" font-family=\"Times,serif\" font-size=\"14.00\">gini = 0.01</text>\n<text text-anchor=\"middle\" x=\"528.5\" y=\"-111.8\" font-family=\"Times,serif\" font-size=\"14.00\">samples = 2408</text>\n<text text-anchor=\"middle\" x=\"528.5\" y=\"-96.8\" font-family=\"Times,serif\" font-size=\"14.00\">value = [2396, 12]</text>\n</g>\n<!-- 9&#45;&gt;10 -->\n<g id=\"edge10\" class=\"edge\"><title>9&#45;&gt;10</title>\n<path fill=\"none\" stroke=\"black\" d=\"M531.877,-192.884C531.479,-184.778 531.048,-175.982 530.631,-167.472\"/>\n<polygon fill=\"black\" stroke=\"black\" points=\"534.118,-167.116 530.132,-157.299 527.126,-167.459 534.118,-167.116\"/>\n</g>\n<!-- 13 -->\n<g id=\"node14\" class=\"node\"><title>13</title>\n<polygon fill=\"none\" stroke=\"black\" points=\"743.5,-157 621.5,-157 621.5,-89 743.5,-89 743.5,-157\"/>\n<text text-anchor=\"middle\" x=\"682.5\" y=\"-141.8\" font-family=\"Times,serif\" font-size=\"14.00\">X[47] &lt;= 0.5</text>\n<text text-anchor=\"middle\" x=\"682.5\" y=\"-126.8\" font-family=\"Times,serif\" font-size=\"14.00\">gini = 0.142</text>\n<text text-anchor=\"middle\" x=\"682.5\" y=\"-111.8\" font-family=\"Times,serif\" font-size=\"14.00\">samples = 26</text>\n<text text-anchor=\"middle\" x=\"682.5\" y=\"-96.8\" font-family=\"Times,serif\" font-size=\"14.00\">value = [2, 24]</text>\n</g>\n<!-- 9&#45;&gt;13 -->\n<g id=\"edge13\" class=\"edge\"><title>9&#45;&gt;13</title>\n<path fill=\"none\" stroke=\"black\" d=\"M581.876,-192.884C595.87,-183.304 611.271,-172.761 625.727,-162.864\"/>\n<polygon fill=\"black\" stroke=\"black\" points=\"627.837,-165.662 634.112,-157.125 623.883,-159.885 627.837,-165.662\"/>\n</g>\n<!-- 11 -->\n<g id=\"node12\" class=\"node\"><title>11</title>\n<polygon fill=\"none\" stroke=\"black\" points=\"460.5,-53 320.5,-53 320.5,-0 460.5,-0 460.5,-53\"/>\n<text text-anchor=\"middle\" x=\"390.5\" y=\"-37.8\" font-family=\"Times,serif\" font-size=\"14.00\">gini = 0.005</text>\n<text text-anchor=\"middle\" x=\"390.5\" y=\"-22.8\" font-family=\"Times,serif\" font-size=\"14.00\">samples = 2402</text>\n<text text-anchor=\"middle\" x=\"390.5\" y=\"-7.8\" font-family=\"Times,serif\" font-size=\"14.00\">value = [2396, 6]</text>\n</g>\n<!-- 10&#45;&gt;11 -->\n<g id=\"edge11\" class=\"edge\"><title>10&#45;&gt;11</title>\n<path fill=\"none\" stroke=\"black\" d=\"M480.234,-88.9485C466.074,-79.2516 450.629,-68.6752 436.607,-59.073\"/>\n<polygon fill=\"black\" stroke=\"black\" points=\"438.312,-55.999 428.084,-53.2367 434.357,-61.7746 438.312,-55.999\"/>\n</g>\n<!-- 12 -->\n<g id=\"node13\" class=\"node\"><title>12</title>\n<polygon fill=\"none\" stroke=\"black\" points=\"592,-53 479,-53 479,-0 592,-0 592,-53\"/>\n<text text-anchor=\"middle\" x=\"535.5\" y=\"-37.8\" font-family=\"Times,serif\" font-size=\"14.00\">gini = 0.0</text>\n<text text-anchor=\"middle\" x=\"535.5\" y=\"-22.8\" font-family=\"Times,serif\" font-size=\"14.00\">samples = 6</text>\n<text text-anchor=\"middle\" x=\"535.5\" y=\"-7.8\" font-family=\"Times,serif\" font-size=\"14.00\">value = [0, 6]</text>\n</g>\n<!-- 10&#45;&gt;12 -->\n<g id=\"edge12\" class=\"edge\"><title>10&#45;&gt;12</title>\n<path fill=\"none\" stroke=\"black\" d=\"M530.948,-88.9485C531.558,-80.7153 532.215,-71.848 532.835,-63.4814\"/>\n<polygon fill=\"black\" stroke=\"black\" points=\"536.345,-63.468 533.594,-53.2367 529.364,-62.9508 536.345,-63.468\"/>\n</g>\n<!-- 14 -->\n<g id=\"node15\" class=\"node\"><title>14</title>\n<polygon fill=\"none\" stroke=\"black\" points=\"734,-53 621,-53 621,-0 734,-0 734,-53\"/>\n<text text-anchor=\"middle\" x=\"677.5\" y=\"-37.8\" font-family=\"Times,serif\" font-size=\"14.00\">gini = 0.0</text>\n<text text-anchor=\"middle\" x=\"677.5\" y=\"-22.8\" font-family=\"Times,serif\" font-size=\"14.00\">samples = 2</text>\n<text text-anchor=\"middle\" x=\"677.5\" y=\"-7.8\" font-family=\"Times,serif\" font-size=\"14.00\">value = [2, 0]</text>\n</g>\n<!-- 13&#45;&gt;14 -->\n<g id=\"edge14\" class=\"edge\"><title>13&#45;&gt;14</title>\n<path fill=\"none\" stroke=\"black\" d=\"M680.751,-88.9485C680.316,-80.7153 679.846,-71.848 679.404,-63.4814\"/>\n<polygon fill=\"black\" stroke=\"black\" points=\"682.885,-63.0378 678.862,-53.2367 675.895,-63.4077 682.885,-63.0378\"/>\n</g>\n<!-- 15 -->\n<g id=\"node16\" class=\"node\"><title>15</title>\n<polygon fill=\"none\" stroke=\"black\" points=\"874.5,-53 752.5,-53 752.5,-0 874.5,-0 874.5,-53\"/>\n<text text-anchor=\"middle\" x=\"813.5\" y=\"-37.8\" font-family=\"Times,serif\" font-size=\"14.00\">gini = 0.0</text>\n<text text-anchor=\"middle\" x=\"813.5\" y=\"-22.8\" font-family=\"Times,serif\" font-size=\"14.00\">samples = 24</text>\n<text text-anchor=\"middle\" x=\"813.5\" y=\"-7.8\" font-family=\"Times,serif\" font-size=\"14.00\">value = [0, 24]</text>\n</g>\n<!-- 13&#45;&gt;15 -->\n<g id=\"edge15\" class=\"edge\"><title>13&#45;&gt;15</title>\n<path fill=\"none\" stroke=\"black\" d=\"M728.317,-88.9485C741.633,-79.3431 756.145,-68.8747 769.355,-59.345\"/>\n<polygon fill=\"black\" stroke=\"black\" points=\"771.76,-61.9257 777.823,-53.2367 767.665,-56.2486 771.76,-61.9257\"/>\n</g>\n</g>\n</svg>\n"
          },
          "metadata": {
            "tags": []
          },
          "execution_count": 139
        }
      ]
    },
    {
      "metadata": {
        "id": "F3vkJGhajk9_",
        "colab_type": "code",
        "colab": {
          "base_uri": "https://localhost:8080/",
          "height": 52
        },
        "outputId": "d3ba8568-bc5c-4e74-8897-5b6370a5369a"
      },
      "cell_type": "code",
      "source": [
        "print(\"The accuracy using the test set is {}\".format(clf.score(X_test, Y_test)))\n",
        "print(\"The accuracy using the train set is {}\".format(clf.score(X_train, Y_train)))"
      ],
      "execution_count": 140,
      "outputs": [
        {
          "output_type": "stream",
          "text": [
            "The accuracy using the test set is 0.9991796554552912\n",
            "The accuracy using the train set is 0.9989447766443897\n"
          ],
          "name": "stdout"
        }
      ]
    },
    {
      "metadata": {
        "id": "Xg9Jsx5JkK6r",
        "colab_type": "code",
        "colab": {
          "base_uri": "https://localhost:8080/",
          "height": 1263
        },
        "outputId": "466b5cc6-d9af-41d6-a243-396e815806e0"
      },
      "cell_type": "code",
      "source": [
        "# Parameter tuning on 'max_depth' - which defines the maximum amount of layers the tree can create. 'max_features' - The number of features to consider when splitting\n",
        "\n",
        "max_depth_range = [1,2,3,4,5]\n",
        "\n",
        "max_features_range = [1,2,3,4,5]\n",
        "\n",
        "ratio_max_depth = []\n",
        "ratio_max_features = []\n",
        "\n",
        "print(\"Max Depth Accuracy\")\n",
        "\n",
        "for max_depth in max_depth_range:\n",
        "  \n",
        "  clf = tree.DecisionTreeClassifier(max_depth=max_depth)\n",
        "  clf.fit(X_train, Y_train)\n",
        "  print(\"The accuracy using the test set is {}\".format(clf.score(X_test, Y_test)))\n",
        "  print(\"The accuracy using the train set is {}\".format(clf.score(X_train, Y_train)))\n",
        "  print(\"The ratio is: {}\".format(clf.score(X_test, Y_test)/(clf.score(X_train, Y_train))))\n",
        "    \n",
        "  ratio_max_depth.append(clf.score(X_test, Y_test)/(clf.score(X_train, Y_train)))\n",
        "  \n",
        "  \n",
        "max_depth_accuracy = pd.DataFrame(ratio_max_depth)\n",
        "max_depth_accuracy.plot(ylim = [0.90,1.05])\n",
        "\n",
        "print(\"Max Features Accuracy\")\n",
        "  \n",
        "for max_features in max_features_range:\n",
        "  \n",
        "  clf = tree.DecisionTreeClassifier(max_features=max_features)\n",
        "  clf.fit(X_train, Y_train)\n",
        "  print(\"The accuracy using the test set is {}\".format(clf.score(X_test, Y_test)))\n",
        "  print(\"The accuracy using the train set is {}\".format(clf.score(X_train, Y_train)))\n",
        "  print(\"The ratio is: {}\".format(clf.score(X_test, Y_test)/(clf.score(X_train, Y_train))))\n",
        "    \n",
        "  ratio_max_features.append(clf.score(X_test, Y_test)/(clf.score(X_train, Y_train)))\n",
        "  \n",
        "max_features_accuracy = pd.DataFrame(ratio_max_features)\n",
        "max_features_accuracy.plot(ylim = [0.90,1.05])"
      ],
      "execution_count": 148,
      "outputs": [
        {
          "output_type": "stream",
          "text": [
            "Max Depth Accuracy\n",
            "The accuracy using the test set is 0.8888433141919606\n",
            "The accuracy using the train set is 0.8858600070348224\n",
            "The ratio is: 1.0033676959490745\n",
            "The accuracy using the test set is 0.9257588187038556\n",
            "The accuracy using the train set is 0.9277172001406965\n",
            "The ratio is: 0.9978890318768004\n",
            "The accuracy using the test set is 0.965135356849877\n",
            "The accuracy using the train set is 0.9665845937390081\n",
            "The ratio is: 0.9985006621267104\n",
            "The accuracy using the test set is 0.9991796554552912\n",
            "The accuracy using the train set is 0.9989447766443897\n",
            "The ratio is: 1.0002351269223215\n",
            "The accuracy using the test set is 0.9987694831829368\n",
            "The accuracy using the train set is 0.9996482588814632\n",
            "The ratio is: 0.9991209150911644\n",
            "Max Features Accuracy\n",
            "The accuracy using the test set is 0.9995898277276456\n",
            "The accuracy using the train set is 1.0\n",
            "The ratio is: 0.9995898277276456\n",
            "The accuracy using the test set is 0.9987694831829368\n",
            "The accuracy using the train set is 1.0\n",
            "The ratio is: 0.9987694831829368\n",
            "The accuracy using the test set is 0.9987694831829368\n",
            "The accuracy using the train set is 1.0\n",
            "The ratio is: 0.9987694831829368\n",
            "The accuracy using the test set is 0.9979491386382281\n",
            "The accuracy using the train set is 1.0\n",
            "The ratio is: 0.9979491386382281\n",
            "The accuracy using the test set is 0.9983593109105825\n",
            "The accuracy using the train set is 1.0\n",
            "The ratio is: 0.9983593109105825\n"
          ],
          "name": "stdout"
        },
        {
          "output_type": "execute_result",
          "data": {
            "text/plain": [
              "<matplotlib.axes._subplots.AxesSubplot at 0x7f01d0335d68>"
            ]
          },
          "metadata": {
            "tags": []
          },
          "execution_count": 148
        },
        {
          "output_type": "display_data",
          "data": {
            "image/png": "[encoded data removed]",
            "text/plain": [
              "<matplotlib.figure.Figure at 0x7f01d03189e8>"
            ]
          },
          "metadata": {
            "tags": []
          }
        },
        {
          "output_type": "display_data",
          "data": {
            "image/png": "[encoded data removed]",
            "text/plain": [
              "<matplotlib.figure.Figure at 0x7f01cf9739e8>"
            ]
          },
          "metadata": {
            "tags": []
          }
        }
      ]
    },
    {
      "metadata": {
        "id": "OHYaq28PPENP",
        "colab_type": "code",
        "colab": {
          "base_uri": "https://localhost:8080/",
          "height": 346
        },
        "outputId": "c4a5e4a0-bafc-413b-c39b-77605c815e32"
      },
      "cell_type": "code",
      "source": [
        "#Compare the two models at there peak accuary\n",
        "\n",
        "ratio_linear = []\n",
        "ratio_tree = []\n",
        "\n",
        "max_features_range = [1,2,3,4,5]\n",
        "C_param_range = [0.001,0.01,0.1,0.5,1]\n",
        "\n",
        "for c in C_param_range:\n",
        "  \n",
        "    clf = linear_model.LogisticRegression(C=c, random_state=12)\n",
        "  \n",
        "    clf.fit(X_train, Y_train)\n",
        "    \n",
        "    ratio_linear.append(clf.score(X_test, Y_test)/(clf.score(X_train, Y_train)))\n",
        "    \n",
        "    \n",
        "for max_features in max_features_range:\n",
        "  \n",
        "  clf_tree = tree.DecisionTreeClassifier(max_features=max_features, max_depth=3)\n",
        "  clf_tree.fit(X_train, Y_train)\n",
        "  \n",
        "  ratio_tree.append(clf_tree.score(X_test, Y_test)/(clf_tree.score(X_train, Y_train)))\n",
        "    \n",
        "\n",
        "plt.plot(ratio_linear, label=\"Linear Regression\")\n",
        "plt.plot(ratio_tree, label=\"Descision Tree\")\n",
        "plt.legend(bbox_to_anchor=(1.05, 1), loc=2, borderaxespad=0.)\n",
        "plt.show()\n",
        "    \n",
        "  \n"
      ],
      "execution_count": 147,
      "outputs": [
        {
          "output_type": "display_data",
          "data": {
            "image/png": "[encoded data removed]",
            "text/plain": [
              "<matplotlib.figure.Figure at 0x7f01cf067438>"
            ]
          },
          "metadata": {
            "tags": []
          }
        }
      ]
    },
    {
      "metadata": {
        "id": "ffCgsAxIEWiX",
        "colab_type": "text"
      },
      "cell_type": "markdown",
      "source": [
        "## **Discussion**\n",
        "\n",
        "After doing analysis on the two models I would advise to use the logistic regression model due to the results from the analysis. The two models produced 'scores' of 99% which means that the model has an error rate of 1%. So 99% of the time both models can predict correctly if a mushroom is poisonous or edible from the data provided. Although the two models have a very similar high performance I still advise to use the logistic regression model because of how robust the algorithm is compared to the decision tree's. As shown in the image below, the linear regression ratio is more consistent to '1' compared to the decision which has a huge range from 0.985 to just over 1.005. This shows how the decision tree model is more inconsistent compared to the logistic regression model. It's important that the models are consistent if they are going to be effectively used. Because it implies that the model isn't over fitted. Overfitting refers to a model which is too specific towards the training data. Meaning that the accuracy of the model towards the training set is very high (>95%) but when tested with the test set or any other data the accuracy doesn't match the accuracy against the training set. This should be avoided as much as possible due to the negative performance impacts. This is one of the main reasons why I suggest that logistic regression is used instead of the decision tree because of its more consistent ratio through tuning of the hyperparameters.\n",
        "![alt text](data:image/png;base64,iVBORw0KGgoAAAANSUhEUgAAAngAAAFKCAYAAACOzSIBAAAABHNCSVQICAgIfAhkiAAAAAlwSFlz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)\n",
        "\n",
        "\n",
        "### Logistic Regression:\n",
        "\n",
        "This model has an overall accuracy using the test set of 0.918785890073831\n",
        "\n",
        "This model has an overall accuracy using the train set of 0.9208582483292297\n",
        "\n",
        "The ratio is: 0.9977495360885797\n",
        "\n",
        "This model has an overall accuracy using the test set of 0.9786710418375718\n",
        "\n",
        "This model has an overall accuracy using the train set of 0.9792472740063314\n",
        "\n",
        "The ratio is: 0.9994115560144456\n",
        "\n",
        "This model has an overall accuracy using the test set of 0.9991796554552912\n",
        "\n",
        "This model has an overall accuracy using the train set of 0.9989447766443897\n",
        "\n",
        "The ratio is: 1.0002351269223215\n",
        "\n",
        "This model has an overall accuracy using the test set of 0.9991796554552912\n",
        "\n",
        "This model has an overall accuracy using the train set of 0.9996482588814632\n",
        "\n",
        "### Decision Tree:\n",
        "\n",
        "\n",
        "The accuracy using the test set is 0.8888433141919606\n",
        "\n",
        "The accuracy using the train set is 0.8858600070348224\n",
        "\n",
        "The ratio is: 1.0033676959490745\n",
        "\n",
        "The accuracy using the test set is 0.9257588187038556\n",
        "\n",
        "The accuracy using the train set is 0.9277172001406965\n",
        "\n",
        "The ratio is: 0.9978890318768004\n",
        "\n",
        "The accuracy using the test set is 0.9643150123051681\n",
        "\n",
        "The accuracy using the train set is 0.9660569820612029\n",
        "\n",
        "The ratio is: 0.9981968250440899\n",
        "\n",
        "The accuracy using the test set is 0.9991796554552912\n",
        "\n",
        "The accuracy using the train set is 0.9996482588814632\n",
        "\n",
        "The ratio is: 0.9995312316887378\n",
        "\n",
        "\n",
        "As explained, the logistic regression model is very suitable to this type of problem, so I would recommend using this model out of the two. Although there are other model and factors which could be investigated. For example, Random Forest could challenge the logistic regression model to be more particular more effective. The random forest model is a collection of decision trees which are combined together to form one result. The main advantage of the random forest is that it limits overfitting which is clearly present in the decision tree model. This means it will be more consistent and will maintain the high performance. \n",
        "\n",
        "Another recommendation is to try the algorithm on a different dataset if possible. There is one main problem with the dataset used in this analyse. The problem is that the dataset is more than 50 years old. This means there is a possibility that the data is not as relevant or inaccurate. This can impact the outputs causing them not being accurate. So I suggest that it's important that the models have been analysed on a more updated and different dataset to ensure that the performance and robustness is maintained at a high level."
      ]
    }
  ]
}